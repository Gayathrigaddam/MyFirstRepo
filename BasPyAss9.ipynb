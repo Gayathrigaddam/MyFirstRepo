{
 "cells": [
  {
   "cell_type": "code",
   "execution_count": 4,
   "metadata": {},
   "outputs": [],
   "source": [
    "#Question1\n",
    "def check_disarium(num):\n",
    "    num=str(num)\n",
    "    sum=0\n",
    "    for i in range(len(num)):\n",
    "        sum+=int(num[i])**(i+1)\n",
    "    if(sum==int(num)):\n",
    "        return str(num)+\" is a disarium number\"\n",
    "    else:\n",
    "        return str(num)+\" is not a disarium number\""
   ]
  },
  {
   "cell_type": "code",
   "execution_count": 7,
   "metadata": {},
   "outputs": [
    {
     "name": "stdout",
     "output_type": "stream",
     "text": [
      "175 is a disarium number\n",
      "518 is a disarium number\n",
      "172 is not a disarium number\n"
     ]
    }
   ],
   "source": [
    "print(check_disarium(175))\n",
    "print(check_disarium(518))\n",
    "print(check_disarium(172))"
   ]
  },
  {
   "cell_type": "code",
   "execution_count": 8,
   "metadata": {},
   "outputs": [
    {
     "name": "stdout",
     "output_type": "stream",
     "text": [
      "1\n",
      "2\n",
      "3\n",
      "4\n",
      "5\n",
      "6\n",
      "7\n",
      "8\n",
      "9\n",
      "89\n"
     ]
    }
   ],
   "source": [
    "#Question2\n",
    "def check_disarium(num):\n",
    "    num=str(num)\n",
    "    sum=0\n",
    "    for i in range(len(num)):\n",
    "        sum+=int(num[i])**(i+1)\n",
    "    if(sum==int(num)):\n",
    "        return True\n",
    "    else:\n",
    "        return False\n",
    "def print_disarium():\n",
    "    for i in range(1,100):\n",
    "        if(check_disarium(i)):\n",
    "            yield i\n",
    "for i in print_disarium():\n",
    "    print(i)"
   ]
  },
  {
   "cell_type": "code",
   "execution_count": 12,
   "metadata": {},
   "outputs": [],
   "source": [
    "#Question3\n",
    "def squareSum(num):\n",
    "    num=str(num)\n",
    "    sum=0\n",
    "    for i in num:\n",
    "        sum+=int(i)**2\n",
    "    return sum\n",
    "    \n",
    "def check_happynumber(num):\n",
    "    lst=[]\n",
    "    k=num\n",
    "    while(True):\n",
    "        if(squareSum(k)==1):\n",
    "            return True\n",
    "            break\n",
    "        else:\n",
    "            if(squareSum(k) in lst):\n",
    "                return False\n",
    "            else:\n",
    "                lst.append(k)\n",
    "        k=squareSum(k)\n"
   ]
  },
  {
   "cell_type": "code",
   "execution_count": 19,
   "metadata": {},
   "outputs": [
    {
     "name": "stdout",
     "output_type": "stream",
     "text": [
      "True\n",
      "True\n",
      "False\n",
      "False\n",
      "True\n"
     ]
    }
   ],
   "source": [
    "print(check_happynumber(130))\n",
    "print(check_happynumber(19))\n",
    "print(check_happynumber(54))\n",
    "print(check_happynumber(66))\n",
    "print(check_happynumber(23))"
   ]
  },
  {
   "cell_type": "code",
   "execution_count": 20,
   "metadata": {},
   "outputs": [
    {
     "name": "stdout",
     "output_type": "stream",
     "text": [
      "1\n",
      "7\n",
      "10\n",
      "13\n",
      "19\n",
      "23\n",
      "28\n",
      "31\n",
      "32\n",
      "44\n",
      "49\n",
      "68\n",
      "70\n",
      "79\n",
      "82\n",
      "86\n",
      "91\n",
      "94\n",
      "97\n"
     ]
    }
   ],
   "source": [
    "#Question4\n",
    "def print_happynumbers():\n",
    "    for i in range(1,100):\n",
    "        if(check_happynumber(i)):\n",
    "            yield i\n",
    "for i in print_happynumbers():\n",
    "    print(i)"
   ]
  },
  {
   "cell_type": "code",
   "execution_count": 29,
   "metadata": {},
   "outputs": [],
   "source": [
    "#Question5\n",
    "def check_harshad(num):\n",
    "    sum=0\n",
    "    num1=num\n",
    "    while(num!=0):\n",
    "        sum+=num%10\n",
    "        num=num//10\n",
    "    if(num1%sum==0):\n",
    "        return True\n",
    "    else:\n",
    "        return False"
   ]
  },
  {
   "cell_type": "code",
   "execution_count": 34,
   "metadata": {},
   "outputs": [
    {
     "name": "stdout",
     "output_type": "stream",
     "text": [
      "True\n",
      "True\n",
      "False\n"
     ]
    }
   ],
   "source": [
    "print(check_harshad(40))\n",
    "print(check_harshad(132))\n",
    "print(check_harshad(41))"
   ]
  },
  {
   "cell_type": "code",
   "execution_count": 35,
   "metadata": {},
   "outputs": [
    {
     "name": "stdout",
     "output_type": "stream",
     "text": [
      "2\n",
      "6\n",
      "12\n",
      "20\n",
      "30\n",
      "42\n",
      "56\n",
      "72\n",
      "90\n"
     ]
    }
   ],
   "source": [
    "#Question6\n",
    "def check_pronic(num):\n",
    "    for i in range(1,num):\n",
    "        if(i*(i+1)==num):\n",
    "            return True\n",
    "    else:\n",
    "        return False\n",
    "def print_pronicnumbers():\n",
    "    for i in range(1,100):\n",
    "        if(check_pronic(i)):\n",
    "            yield i \n",
    "for i in print_pronicnumbers():\n",
    "    print(i)\n",
    "            \n",
    "        "
   ]
  },
  {
   "cell_type": "code",
   "execution_count": null,
   "metadata": {},
   "outputs": [],
   "source": []
  }
 ],
 "metadata": {
  "kernelspec": {
   "display_name": "Python 3",
   "language": "python",
   "name": "python3"
  },
  "language_info": {
   "codemirror_mode": {
    "name": "ipython",
    "version": 3
   },
   "file_extension": ".py",
   "mimetype": "text/x-python",
   "name": "python",
   "nbconvert_exporter": "python",
   "pygments_lexer": "ipython3",
   "version": "3.7.4"
  }
 },
 "nbformat": 4,
 "nbformat_minor": 2
}
