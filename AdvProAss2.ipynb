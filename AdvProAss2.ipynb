{
 "cells": [
  {
   "cell_type": "code",
   "execution_count": 1,
   "metadata": {},
   "outputs": [],
   "source": [
    "#Question1\n",
    "def pentagonal(n):\n",
    "    result=1\n",
    "    for i in range(n):\n",
    "        result+=i*5\n",
    "    return result"
   ]
  },
  {
   "cell_type": "code",
   "execution_count": 5,
   "metadata": {},
   "outputs": [
    {
     "name": "stdout",
     "output_type": "stream",
     "text": [
      "1\n",
      "6\n",
      "16\n",
      "141\n"
     ]
    }
   ],
   "source": [
    "print(pentagonal(1))\n",
    "print(pentagonal(2))\n",
    "print(pentagonal(3))\n",
    "print(pentagonal(8))"
   ]
  },
  {
   "cell_type": "code",
   "execution_count": 17,
   "metadata": {},
   "outputs": [],
   "source": [
    "#Question2\n",
    "def encrypt(ip):\n",
    "    op=ip[::-1]\n",
    "    if 'a' in op:\n",
    "        op= op.replace('a','0')\n",
    "    if 'e' in op:\n",
    "        op=op.replace('e','1')\n",
    "    if 'i' in op:\n",
    "        op=op.replace('i','2')\n",
    "    if 'o' in op:\n",
    "        op=op.replace('o','2')\n",
    "    if 'u' in op:\n",
    "        op=op.replace('u','3')\n",
    "    op+='aca'\n",
    "    return op"
   ]
  },
  {
   "cell_type": "code",
   "execution_count": 18,
   "metadata": {},
   "outputs": [
    {
     "name": "stdout",
     "output_type": "stream",
     "text": [
      "0n0n0baca\n",
      "0c0r0kaca\n",
      "k0r3baca\n",
      "0c0pl0aca\n"
     ]
    }
   ],
   "source": [
    "print(encrypt('banana'))\n",
    "print(encrypt('karaca'))\n",
    "print(encrypt('burak'))\n",
    "print(encrypt('alpaca'))"
   ]
  },
  {
   "cell_type": "code",
   "execution_count": 25,
   "metadata": {},
   "outputs": [],
   "source": [
    "#Question3\n",
    "import datetime as dt\n",
    "def has_friday_13(m,y):\n",
    "    if(dt.date(y,m,13).weekday()==4):\n",
    "        return True\n",
    "    else:\n",
    "        return False"
   ]
  },
  {
   "cell_type": "code",
   "execution_count": 27,
   "metadata": {},
   "outputs": [
    {
     "name": "stdout",
     "output_type": "stream",
     "text": [
      "True\n",
      "True\n",
      "False\n"
     ]
    }
   ],
   "source": [
    "print(has_friday_13(3,2020))\n",
    "print(has_friday_13(10,2017))\n",
    "print(has_friday_13(1,1985))"
   ]
  },
  {
   "cell_type": "code",
   "execution_count": 83,
   "metadata": {},
   "outputs": [],
   "source": [
    "#Question4\n",
    "import re\n",
    "def count_bad_cookies(lst):\n",
    "        res=len(re.findall('(?<!od )co',','.join(lst)))\n",
    "        return res"
   ]
  },
  {
   "cell_type": "code",
   "execution_count": 84,
   "metadata": {},
   "outputs": [
    {
     "name": "stdout",
     "output_type": "stream",
     "text": [
      "Enter number of elements in the cookies list3\n",
      "Enter 'bad cookie' or 'good cookie'bad cookie\n",
      "Enter 'bad cookie' or 'good cookie'bad cookie\n",
      "Enter 'bad cookie' or 'good cookie'good cookie\n",
      "2\n"
     ]
    }
   ],
   "source": [
    "cookies_list=[]\n",
    "n=int(input(\"Enter number of elements in the cookies list\"))\n",
    "for i in range(n):\n",
    "    cookies_list.append(input(\"Enter 'bad cookie' or 'good cookie'\"))\n",
    "print(count_bad_cookies(cookies_list))"
   ]
  },
  {
   "cell_type": "code",
   "execution_count": 7,
   "metadata": {},
   "outputs": [],
   "source": [
    "#Question5\n",
    "def pluralize(lst):\n",
    "    uni=list(set(lst))\n",
    "    for i in range(len(uni)):\n",
    "        if lst.count(uni[i])>1:\n",
    "            uni[i]=uni[i]+'s'\n",
    "    return(set(uni))"
   ]
  },
  {
   "cell_type": "code",
   "execution_count": 14,
   "metadata": {},
   "outputs": [
    {
     "name": "stdout",
     "output_type": "stream",
     "text": [
      "{'cows', 'pig'}\n",
      "{'tables'}\n",
      "{'arm', 'pencil', 'chair'}\n"
     ]
    }
   ],
   "source": [
    "l=['cow','pig','cow','cow']\n",
    "print(pluralize(l))\n",
    "l=['table','table','table']\n",
    "print(pluralize(l))\n",
    "l=['chair','pencil','arm']\n",
    "print(pluralize(l))"
   ]
  },
  {
   "cell_type": "code",
   "execution_count": null,
   "metadata": {},
   "outputs": [],
   "source": []
  },
  {
   "cell_type": "code",
   "execution_count": null,
   "metadata": {},
   "outputs": [],
   "source": []
  }
 ],
 "metadata": {
  "kernelspec": {
   "display_name": "Python 3",
   "language": "python",
   "name": "python3"
  },
  "language_info": {
   "codemirror_mode": {
    "name": "ipython",
    "version": 3
   },
   "file_extension": ".py",
   "mimetype": "text/x-python",
   "name": "python",
   "nbconvert_exporter": "python",
   "pygments_lexer": "ipython3",
   "version": "3.7.4"
  }
 },
 "nbformat": 4,
 "nbformat_minor": 2
}
