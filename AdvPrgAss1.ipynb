{
 "cells": [
  {
   "cell_type": "code",
   "execution_count": 1,
   "metadata": {},
   "outputs": [],
   "source": [
    "#Qstn1\n",
    "def func1(list_input):\n",
    "    values_dict={'#':5,'O':3,'X':1,'!':-1,'!!':-3,'!!!':-5}\n",
    "    sum=0\n",
    "    for i in range(len(list_input)):\n",
    "          for j in range(len(list_input[i])):\n",
    "                sum+=values_dict[list_input[i][j]]\n",
    "    if(sum>0):\n",
    "         return sum\n",
    "    else:\n",
    "         return 0\n",
    "            \n",
    "    "
   ]
  },
  {
   "cell_type": "code",
   "execution_count": 2,
   "metadata": {},
   "outputs": [
    {
     "name": "stdout",
     "output_type": "stream",
     "text": [
      "Enter the number of elements in the list2\n",
      "Enter the elements of the list 1 # !\n",
      "Enter the elements of the list 2 !! X\n"
     ]
    },
    {
     "data": {
      "text/plain": [
       "2"
      ]
     },
     "execution_count": 2,
     "metadata": {},
     "output_type": "execute_result"
    }
   ],
   "source": [
    "num=int(input(\"Enter the number of elements in the list\"))\n",
    "l=[]\n",
    "for i in range(num):\n",
    "    n=list(input('Enter the elements of the list '+str(i+1)+\" \").split(\" \"))\n",
    "    l.append(n)\n",
    "func1(l)\n",
    "    "
   ]
  },
  {
   "cell_type": "code",
   "execution_count": 3,
   "metadata": {},
   "outputs": [
    {
     "name": "stdout",
     "output_type": "stream",
     "text": [
      "Enter the number of elements in the list3\n",
      "Enter the elements of the list 1 !!! O !\n",
      "Enter the elements of the list 2 X # !!!\n",
      "Enter the elements of the list 3 !! X O\n"
     ]
    },
    {
     "data": {
      "text/plain": [
       "0"
      ]
     },
     "execution_count": 3,
     "metadata": {},
     "output_type": "execute_result"
    }
   ],
   "source": [
    "num=int(input(\"Enter the number of elements in the list\"))\n",
    "l=[]\n",
    "for i in range(num):\n",
    "    n=list(input('Enter the elements of the list '+str(i+1)+\" \").split(\" \"))\n",
    "    l.append(n)\n",
    "func1(l)"
   ]
  },
  {
   "cell_type": "code",
   "execution_count": 4,
   "metadata": {},
   "outputs": [],
   "source": [
    "#Qstn2\n",
    "def combinations(*args):\n",
    "    result=1\n",
    "    for k in args:\n",
    "        result*=k\n",
    "    return result"
   ]
  },
  {
   "cell_type": "code",
   "execution_count": 5,
   "metadata": {},
   "outputs": [
    {
     "name": "stdout",
     "output_type": "stream",
     "text": [
      "6\n",
      "84\n",
      "120\n"
     ]
    }
   ],
   "source": [
    "print(combinations(2,3))       \n",
    "print(combinations(3,7,4))\n",
    "print(combinations(2,3,4,5))"
   ]
  },
  {
   "cell_type": "code",
   "execution_count": 7,
   "metadata": {},
   "outputs": [
    {
     "name": "stdout",
     "output_type": "stream",
     "text": [
      ".-...--...-.....- -.-......-.-...-...-.--..\n",
      "......-...--. --. -.-.--\n"
     ]
    }
   ],
   "source": [
    "#Qstn3\n",
    "char_to_dots = {\n",
    "  'A': '.-', 'B': '-...', 'C': '-.-.', 'D': '-..', 'E': '.', 'F': '..-.',\n",
    "  'G': '--.', 'H': '....', 'I': '..', 'J': '.---', 'K': '-.-', 'L': '.-..',\n",
    "  'M': '--', 'N': '-.', 'O': '---', 'P': '.--.', 'Q': '--.-', 'R': '.-.',\n",
    "  'S': '...', 'T': '-', 'U': '..-', 'V': '...-', 'W': '.--', 'X': '-..-',\n",
    "  'Y': '-.--', 'Z': '--..', ' ': ' ', '0': '-----',\n",
    "  '1': '.----', '2': '..---', '3': '...--', '4': '....-', '5': '.....',\n",
    "  '6': '-....', '7': '--...', '8': '---..', '9': '----.',\n",
    "  '&': '.-...', \"'\": '.----.', '@': '.--.-.', ')': '-.--.-', '(': '-.--.',\n",
    "  ':': '---...', ',': '--..--', '=': '-...-', '!': '-.-.--', '.': '.-.-.-',\n",
    "  '-': '-....-', '+': '.-.-.', '\"': '.-..-.', '?': '..--..', '/': '-..-.'\n",
    "}\n",
    "\n",
    "def encode_morse(inp):\n",
    "    result=char_to_dots[inp[0]]\n",
    "    for i in inp[1:]:\n",
    "        result+=char_to_dots[i]\n",
    "    return result\n",
    "print(encode_morse(\"EDABBIT CHALLENGE\"))\n",
    "print(encode_morse(\"HELP ME !\"))"
   ]
  },
  {
   "cell_type": "code",
   "execution_count": 9,
   "metadata": {},
   "outputs": [],
   "source": [
    "#Qstn4\n",
    "import math\n",
    "def checkPrime(n):\n",
    "    if(n==1):\n",
    "        return \"Neither Prime nor composite\"\n",
    "    elif(n==2):\n",
    "        return True\n",
    "    else:\n",
    "        sq=n**0.5\n",
    "        for i in range(2,math.ceil(sq)):\n",
    "               if(n%i==0):\n",
    "                    return False\n",
    "                    break\n",
    "        else:\n",
    "              return True"
   ]
  },
  {
   "cell_type": "code",
   "execution_count": 6,
   "metadata": {},
   "outputs": [
    {
     "name": "stdout",
     "output_type": "stream",
     "text": [
      "False\n",
      "True\n",
      "True\n",
      "False\n",
      "True\n"
     ]
    }
   ],
   "source": [
    "print(checkPrime((2^64)-1))\n",
    "print(checkPrime(7))\n",
    "print(checkPrime(56963))\n",
    "print(checkPrime(515151251552423425435551))\n",
    "print(checkPrime(29475832947601))"
   ]
  },
  {
   "cell_type": "code",
   "execution_count": 7,
   "metadata": {},
   "outputs": [],
   "source": [
    "#Qstn5\n",
    "dict={}\n",
    "for i in range(26):\n",
    "    dict[i+1]=chr(97+i)\n",
    "def getKey(val):\n",
    "    for key, value in dict.items():\n",
    "         if val == value:\n",
    "             return key\n",
    "def to_boolean_list(str):\n",
    "    l=[]\n",
    "    for i in str:\n",
    "        if(getKey(i)%2==0):\n",
    "            l.append(False)\n",
    "        else:\n",
    "            l.append(True)\n",
    "    return l"
   ]
  },
  {
   "cell_type": "code",
   "execution_count": 8,
   "metadata": {},
   "outputs": [
    {
     "name": "stdout",
     "output_type": "stream",
     "text": [
      "[False, True, True, False]\n",
      "[False, True, False, True, True]\n",
      "[False, True, True, False]\n"
     ]
    }
   ],
   "source": [
    "print(to_boolean_list('deep'))\n",
    "print(to_boolean_list('loves'))\n",
    "print(to_boolean_list('tesh'))"
   ]
  },
  {
   "cell_type": "code",
   "execution_count": null,
   "metadata": {},
   "outputs": [],
   "source": []
  }
 ],
 "metadata": {
  "kernelspec": {
   "display_name": "Python 3",
   "language": "python",
   "name": "python3"
  },
  "language_info": {
   "codemirror_mode": {
    "name": "ipython",
    "version": 3
   },
   "file_extension": ".py",
   "mimetype": "text/x-python",
   "name": "python",
   "nbconvert_exporter": "python",
   "pygments_lexer": "ipython3",
   "version": "3.7.4"
  }
 },
 "nbformat": 4,
 "nbformat_minor": 2
}
