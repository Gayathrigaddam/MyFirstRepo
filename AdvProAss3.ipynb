{
 "cells": [
  {
   "cell_type": "code",
   "execution_count": 30,
   "metadata": {},
   "outputs": [],
   "source": [
    "#Question1\n",
    "def arithmetic_operation(ip):\n",
    "    lst=ip.split(\" \")\n",
    "    try:\n",
    "        if lst[1]=='+':\n",
    "            return int(lst[0])+int(lst[2])\n",
    "        elif lst[1]=='-':\n",
    "            return int(lst[0])-int(lst[2])\n",
    "        elif lst[1]=='*':\n",
    "            return int(lst[0])*int(lst[2])\n",
    "        elif lst[1]=='//':\n",
    "            if(lst[2]=='0'):\n",
    "                return -1\n",
    "            else:\n",
    "                return int(lst[0])//int(lst[2])\n",
    "        else:\n",
    "             print(\"Invalid operator\")\n",
    "    except Exception as e:\n",
    "        print(\"There is an error \",e)\n",
    "    finally:\n",
    "        print(\"completed\")\n",
    "        "
   ]
  },
  {
   "cell_type": "code",
   "execution_count": 31,
   "metadata": {},
   "outputs": [
    {
     "name": "stdout",
     "output_type": "stream",
     "text": [
      "completed\n",
      "24\n",
      "completed\n",
      "0\n",
      "completed\n",
      "144\n",
      "completed\n",
      "1\n",
      "completed\n",
      "-1\n"
     ]
    }
   ],
   "source": [
    "print(arithmetic_operation('12 + 12'))\n",
    "print(arithmetic_operation('12 - 12'))\n",
    "print(arithmetic_operation('12 * 12'))\n",
    "print(arithmetic_operation('12 // 12'))\n",
    "print(arithmetic_operation('12 // 0'))"
   ]
  },
  {
   "cell_type": "code",
   "execution_count": 40,
   "metadata": {},
   "outputs": [],
   "source": [
    "#Question2\n",
    "import numpy as np\n",
    "def perimeter(inp):\n",
    "    len1=((inp[0][0]-inp[1][0])**2+(inp[0][1]-inp[1][1])**2)**0.5\n",
    "    len2=((inp[1][0]-inp[2][0])**2+(inp[1][1]-inp[2][1])**2)**0.5\n",
    "    len3=((inp[2][0]-inp[0][0])**2+(inp[2][1]-inp[0][1])**2)**0.5\n",
    "    return len1+len2+len3"
   ]
  },
  {
   "cell_type": "code",
   "execution_count": 48,
   "metadata": {},
   "outputs": [
    {
     "name": "stdout",
     "output_type": "stream",
     "text": [
      "Perimeter is: 47.08\n",
      "Perimeter is: 3.41\n",
      "Perimeter is: 68.28\n"
     ]
    }
   ],
   "source": [
    "print(\"Perimeter is: {:.2f}\".format(perimeter([[15,7],[5,22],[11,1]])))\n",
    "print(\"Perimeter is: {:.2f}\".format(perimeter([[0,0],[0,1],[1,0]])))\n",
    "print(\"Perimeter is: {:.2f}\".format(perimeter([[-10,-10],[10,10],[-10,10]])))"
   ]
  },
  {
   "cell_type": "code",
   "execution_count": 53,
   "metadata": {},
   "outputs": [],
   "source": [
    "#Question3\n",
    "def tallest_skyscraper(inp):\n",
    "    n=len(inp)\n",
    "    for i in range(n):\n",
    "        if 1 in inp[i]:\n",
    "            return n-i"
   ]
  },
  {
   "cell_type": "code",
   "execution_count": 56,
   "metadata": {},
   "outputs": [
    {
     "name": "stdout",
     "output_type": "stream",
     "text": [
      "4\n",
      "3\n",
      "4\n",
      "2\n"
     ]
    }
   ],
   "source": [
    "print(tallest_skyscraper([[0,0,0,0,0,0],[0,0,0,0,1,0],[0,0,1,0,1,0],[0,1,1,1,1,0],[1,1,1,1,1,1]]))\n",
    "print(tallest_skyscraper([[0,0,0,0],[0,1,0,0],[0,1,1,0],[1,1,1,1]]))\n",
    "print(tallest_skyscraper([[0,1,0,0],[0,1,0,0],[0,1,1,0],[1,1,1,1]]))\n",
    "print(tallest_skyscraper([[0,0,0,0],[0,0,0,0],[1,1,1,0],[1,1,1,1]]))"
   ]
  },
  {
   "cell_type": "code",
   "execution_count": 64,
   "metadata": {},
   "outputs": [],
   "source": [
    "#Question4\n",
    "def bonus(days):\n",
    "    if(days<0):\n",
    "        return \"Invalid input given\"\n",
    "    elif(days<=32):\n",
    "        return 0\n",
    "    elif(days>32 and days<=40):\n",
    "        return (days-32)*325\n",
    "    elif(days>40 and days<=48):\n",
    "         return (8*325)+((days-40)*550)\n",
    "    else:\n",
    "         return (8*325)+(8*550)+((days-48)*600)\n",
    "\n",
    "       \n",
    "    "
   ]
  },
  {
   "cell_type": "code",
   "execution_count": 65,
   "metadata": {},
   "outputs": [
    {
     "name": "stdout",
     "output_type": "stream",
     "text": [
      "0\n",
      "1625\n",
      "8200\n"
     ]
    }
   ],
   "source": [
    "print(bonus(15))\n",
    "print(bonus(37))\n",
    "print(bonus(50))"
   ]
  },
  {
   "cell_type": "code",
   "execution_count": 66,
   "metadata": {},
   "outputs": [],
   "source": [
    "#Question5\n",
    "def is_disarium(num):\n",
    "    num=str(num)\n",
    "    sum=0\n",
    "    k=1\n",
    "    for i in num:\n",
    "            sum+=int(i)**k\n",
    "            k+=1\n",
    "    if(sum==int(num)):\n",
    "        return True\n",
    "    else:\n",
    "        return False"
   ]
  },
  {
   "cell_type": "code",
   "execution_count": 69,
   "metadata": {},
   "outputs": [
    {
     "name": "stdout",
     "output_type": "stream",
     "text": [
      "False\n",
      "True\n",
      "False\n",
      "True\n",
      "False\n",
      "True\n"
     ]
    }
   ],
   "source": [
    "print(is_disarium(75))\n",
    "print(is_disarium(135))\n",
    "print(is_disarium(544))\n",
    "print(is_disarium(518))\n",
    "print(is_disarium(466))\n",
    "print(is_disarium(8))"
   ]
  },
  {
   "cell_type": "code",
   "execution_count": null,
   "metadata": {},
   "outputs": [],
   "source": []
  }
 ],
 "metadata": {
  "kernelspec": {
   "display_name": "Python 3",
   "language": "python",
   "name": "python3"
  },
  "language_info": {
   "codemirror_mode": {
    "name": "ipython",
    "version": 3
   },
   "file_extension": ".py",
   "mimetype": "text/x-python",
   "name": "python",
   "nbconvert_exporter": "python",
   "pygments_lexer": "ipython3",
   "version": "3.7.4"
  }
 },
 "nbformat": 4,
 "nbformat_minor": 2
}
