{
 "cells": [
  {
   "cell_type": "code",
   "execution_count": 3,
   "metadata": {},
   "outputs": [],
   "source": [
    "#Question1\n",
    "def sumofarray(lst):\n",
    "    try:\n",
    "        return sum(lst)\n",
    "    except Exception as e:\n",
    "        print(\"Error occurred!!\\n\",e)"
   ]
  },
  {
   "cell_type": "code",
   "execution_count": 4,
   "metadata": {},
   "outputs": [
    {
     "data": {
      "text/plain": [
       "18"
      ]
     },
     "execution_count": 4,
     "metadata": {},
     "output_type": "execute_result"
    }
   ],
   "source": [
    "sumofarray([4,5,2,7])"
   ]
  },
  {
   "cell_type": "code",
   "execution_count": 5,
   "metadata": {},
   "outputs": [],
   "source": [
    "#Question2\n",
    "def largestelt(lst):\n",
    "    try:\n",
    "        return max(lst)\n",
    "    except Exception as e:\n",
    "        print(\"Error occurred!!\\n\",e)"
   ]
  },
  {
   "cell_type": "code",
   "execution_count": 6,
   "metadata": {},
   "outputs": [
    {
     "data": {
      "text/plain": [
       "99"
      ]
     },
     "execution_count": 6,
     "metadata": {},
     "output_type": "execute_result"
    }
   ],
   "source": [
    "largestelt([2,22,33,21,43,54,76,56,78,9,76,99])"
   ]
  },
  {
   "cell_type": "code",
   "execution_count": 23,
   "metadata": {},
   "outputs": [],
   "source": [
    "#Question3\n",
    "def array_rotation(arr,num,type):\n",
    "    if(type==1):\n",
    "        arr1=arr[num:]+arr[0:num]\n",
    "    else:\n",
    "        arr1=arr[len(arr)-num:len(arr)]+arr[0:len(arr)-num]\n",
    "    return arr1"
   ]
  },
  {
   "cell_type": "code",
   "execution_count": 26,
   "metadata": {},
   "outputs": [
    {
     "name": "stdout",
     "output_type": "stream",
     "text": [
      "Enter by how many elements you want to rotate the array3\n",
      "Enter 1 for clock-wise rotation,-1 for anti clock wise rotation1\n",
      "Array before rotation is : [1, 2, 3, 4, 5, 6, 7, 8, 9]\n",
      "Rotated array is : [4, 5, 6, 7, 8, 9, 1, 2, 3]\n"
     ]
    }
   ],
   "source": [
    "array=[1,2,3,4,5,6,7,8,9]\n",
    "n=int(input(\"Enter by how many elements you want to rotate the array\"))\n",
    "type=int(input(\"Enter 1 for clock-wise rotation,-1 for anti clock wise rotation\"))\n",
    "print(\"Array before rotation is :\",array)\n",
    "print(\"Rotated array is :\",array_rotation(array,n,type))"
   ]
  },
  {
   "cell_type": "code",
   "execution_count": 27,
   "metadata": {},
   "outputs": [
    {
     "name": "stdout",
     "output_type": "stream",
     "text": [
      "Enter by how many elements you want to rotate the array3\n",
      "Enter 1 for clock-wise rotation,-1 for anti clock wise rotation-1\n",
      "Array before rotation is : [1, 2, 3, 4, 5, 6, 7, 8, 9]\n",
      "Rotated array is : [7, 8, 9, 1, 2, 3, 4, 5, 6]\n"
     ]
    }
   ],
   "source": [
    "array=[1,2,3,4,5,6,7,8,9]\n",
    "n=int(input(\"Enter by how many elements you want to rotate the array\"))\n",
    "type=int(input(\"Enter 1 for clock-wise rotation,-1 for anti clock wise rotation\"))\n",
    "print(\"Array before rotation is :\",array)\n",
    "print(\"Rotated array is :\",array_rotation(array,n,type))"
   ]
  },
  {
   "cell_type": "code",
   "execution_count": 32,
   "metadata": {},
   "outputs": [],
   "source": [
    "#Question4\n",
    "def splitandadd(lst,n):\n",
    "    return lst[n:]+lst[0:n]"
   ]
  },
  {
   "cell_type": "code",
   "execution_count": 34,
   "metadata": {},
   "outputs": [
    {
     "name": "stdout",
     "output_type": "stream",
     "text": [
      "Enter at which index you want to split3\n"
     ]
    },
    {
     "data": {
      "text/plain": [
       "[4, 5, 6, 7, 8, 9, 1, 2, 3]"
      ]
     },
     "execution_count": 34,
     "metadata": {},
     "output_type": "execute_result"
    }
   ],
   "source": [
    "arr=[1,2,3,4,5,6,7,8,9]\n",
    "k=int(input(\"Enter at which index you want to split\"))\n",
    "splitandadd(arr,k)"
   ]
  },
  {
   "cell_type": "code",
   "execution_count": 35,
   "metadata": {},
   "outputs": [],
   "source": [
    "#Question5\n",
    "def check_montonic(lst):\n",
    "    if(lst==sorted(lst) or lst==sorted(lst)[::-1]):\n",
    "        return True\n",
    "    else:\n",
    "        return False"
   ]
  },
  {
   "cell_type": "code",
   "execution_count": 38,
   "metadata": {},
   "outputs": [
    {
     "name": "stdout",
     "output_type": "stream",
     "text": [
      "True\n",
      "False\n",
      "True\n"
     ]
    }
   ],
   "source": [
    "print(check_montonic([1,2,3,4,5,6,7,8]))\n",
    "print(check_montonic([1,22,3,40,5,6,72,8]))\n",
    "print(check_montonic([8,7,6,5,4,3,2,1]))"
   ]
  },
  {
   "cell_type": "code",
   "execution_count": null,
   "metadata": {},
   "outputs": [],
   "source": []
  }
 ],
 "metadata": {
  "kernelspec": {
   "display_name": "Python 3",
   "language": "python",
   "name": "python3"
  },
  "language_info": {
   "codemirror_mode": {
    "name": "ipython",
    "version": 3
   },
   "file_extension": ".py",
   "mimetype": "text/x-python",
   "name": "python",
   "nbconvert_exporter": "python",
   "pygments_lexer": "ipython3",
   "version": "3.7.4"
  }
 },
 "nbformat": 4,
 "nbformat_minor": 2
}
