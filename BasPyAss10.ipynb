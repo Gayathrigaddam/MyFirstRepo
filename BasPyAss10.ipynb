{
 "cells": [
  {
   "cell_type": "code",
   "execution_count": 1,
   "metadata": {},
   "outputs": [
    {
     "name": "stdout",
     "output_type": "stream",
     "text": [
      "Enter elements of the list as separated values :1 2 3 4 5 6 7 8 9\n",
      "Sum of elements in the list is : 45\n"
     ]
    }
   ],
   "source": [
    "#Question1\n",
    "lst=list(map(int,input(\"Enter elements of the list as separated values :\").split(\" \")))\n",
    "print(\"Sum of elements in the list is :\",sum(lst))"
   ]
  },
  {
   "cell_type": "code",
   "execution_count": 3,
   "metadata": {},
   "outputs": [
    {
     "name": "stdout",
     "output_type": "stream",
     "text": [
      "Enter elements of the list as separated values :1 2 3 4 5 6\n",
      "Product of elements in the list is : 720\n"
     ]
    }
   ],
   "source": [
    "#Question2\n",
    "lst=list(map(int,input(\"Enter elements of the list as separated values :\").split(\" \")))\n",
    "prod=1\n",
    "for i in lst:\n",
    "    prod*=i\n",
    "print(\"Product of elements in the list is :\",prod)"
   ]
  },
  {
   "cell_type": "code",
   "execution_count": 4,
   "metadata": {},
   "outputs": [
    {
     "name": "stdout",
     "output_type": "stream",
     "text": [
      "Enter elements of the list as separated values :1 2 3 4 5 6 0\n",
      "Smallest number in the list is : 0\n"
     ]
    }
   ],
   "source": [
    "#Question3\n",
    "lst=list(map(int,input(\"Enter elements of the list as separated values :\").split(\" \")))\n",
    "print(\"Smallest number in the list is :\",min(lst))"
   ]
  },
  {
   "cell_type": "code",
   "execution_count": 5,
   "metadata": {},
   "outputs": [
    {
     "name": "stdout",
     "output_type": "stream",
     "text": [
      "Enter elements of the list as separated values :1 2 3 2 3 43 56 43 87\n",
      "Largest number in the list is : 87\n"
     ]
    }
   ],
   "source": [
    "#Question4\n",
    "lst=list(map(int,input(\"Enter elements of the list as separated values :\").split(\" \")))\n",
    "print(\"Largest number in the list is :\",max(lst))"
   ]
  },
  {
   "cell_type": "code",
   "execution_count": 7,
   "metadata": {},
   "outputs": [
    {
     "name": "stdout",
     "output_type": "stream",
     "text": [
      "Enter elements of the list as separated values :1 2 3 4 5\n",
      "Second largest number in the list is : 4\n"
     ]
    }
   ],
   "source": [
    "#Question5\n",
    "lst=list(map(int,input(\"Enter elements of the list as separated values :\").split(\" \")))\n",
    "lst.remove(max(lst))\n",
    "print(\"Second largest number in the list is :\",max(lst))"
   ]
  },
  {
   "cell_type": "code",
   "execution_count": 10,
   "metadata": {},
   "outputs": [
    {
     "name": "stdout",
     "output_type": "stream",
     "text": [
      "Enter elements of the list as separated values :5 2 3 4 6 1\n",
      "Enter how many largest numbers you want2\n"
     ]
    },
    {
     "data": {
      "text/plain": [
       "[5, 6]"
      ]
     },
     "execution_count": 10,
     "metadata": {},
     "output_type": "execute_result"
    }
   ],
   "source": [
    "lst=list(map(int,input(\"Enter elements of the list as separated values :\").split(\" \")))\n",
    "n=int(input(\"Enter how many largest numbers you want\"))\n",
    "sorted(lst)[len(lst)-n:]"
   ]
  },
  {
   "cell_type": "code",
   "execution_count": 11,
   "metadata": {},
   "outputs": [
    {
     "name": "stdout",
     "output_type": "stream",
     "text": [
      "Enter elements of the list as separated values :2 4 3 1 5 6 4 76 77 87 89 88 90 34 32 12 34 56 7\n",
      "Evens list is : [2, 4, 6, 4, 76, 88, 90, 34, 32, 12, 34, 56]\n"
     ]
    }
   ],
   "source": [
    "#Question7\n",
    "lst=list(map(int,input(\"Enter elements of the list as separated values :\").split(\" \")))\n",
    "evens=[i for i in lst if i%2==0]\n",
    "print(\"Evens list is :\",evens)"
   ]
  },
  {
   "cell_type": "code",
   "execution_count": 14,
   "metadata": {},
   "outputs": [
    {
     "name": "stdout",
     "output_type": "stream",
     "text": [
      "Enter elements of the list as separated values :32 45 32 65 67 86 45 43 78 98 88 66 89 09 45\n",
      "Odds list is : [45, 65, 67, 45, 43, 89, 9, 45]\n"
     ]
    }
   ],
   "source": [
    "#Question8\n",
    "lst=list(map(int,input(\"Enter elements of the list as separated values :\").split(\" \")))\n",
    "odds=[i for i in lst if i%2!=0]\n",
    "print(\"Odds list is :\",odds)"
   ]
  },
  {
   "cell_type": "code",
   "execution_count": 15,
   "metadata": {},
   "outputs": [
    {
     "name": "stdout",
     "output_type": "stream",
     "text": [
      "Original list is : [[1, 2], [], [3, 4], [4, 5, 6], [3, 2, 4]]\n",
      "List after removing empty lists is : [[1, 2], [3, 4], [4, 5, 6], [3, 2, 4]]\n"
     ]
    }
   ],
   "source": [
    "#Question9\n",
    "lst=[[1,2],[],[3,4],[4,5,6],[3,2,4]]\n",
    "print(\"Original list is :\",lst)\n",
    "for i in lst:\n",
    "    if(len(i)==0):\n",
    "        lst.remove(i)\n",
    "print(\"List after removing empty lists is :\",lst)"
   ]
  },
  {
   "cell_type": "code",
   "execution_count": 21,
   "metadata": {},
   "outputs": [
    {
     "name": "stdout",
     "output_type": "stream",
     "text": [
      "Enter elements of the list as separated values :1 2 3 4 5 6\n",
      "elements of lst are :[1, 2, 3, 4, 5, 6]\n",
      "elements of lst1 copied from lst are :[1, 2, 3, 4, 5, 6]\n"
     ]
    }
   ],
   "source": [
    "#Questions10\n",
    "lst=list(map(int,input(\"Enter elements of the list as separated values :\").split(\" \")))\n",
    "lst1=lst.copy()\n",
    "print(f'elements of lst are :{lst}')\n",
    "print(f'elements of lst1 copied from lst are :{lst1}')"
   ]
  },
  {
   "cell_type": "code",
   "execution_count": 17,
   "metadata": {},
   "outputs": [
    {
     "name": "stdout",
     "output_type": "stream",
     "text": [
      "Enter elements of the list as separated values :1 2 3 4 3 2 4 4 4 4 6 5\n",
      "Enter the element to count the occurrences4\n",
      "Count of 4 in ['1', '2', '3', '4', '3', '2', '4', '4', '4', '4', '6', '5'] is 5\n"
     ]
    }
   ],
   "source": [
    "#Question11\n",
    "lst=list(input(\"Enter elements of the list as separated values :\").split(\" \"))\n",
    "search=input(\"Enter the element to count the occurrences\")\n",
    "print(f\"Count of {search} in {lst} is {lst.count(search)}\")\n"
   ]
  },
  {
   "cell_type": "code",
   "execution_count": null,
   "metadata": {},
   "outputs": [],
   "source": []
  }
 ],
 "metadata": {
  "kernelspec": {
   "display_name": "Python 3",
   "language": "python",
   "name": "python3"
  },
  "language_info": {
   "codemirror_mode": {
    "name": "ipython",
    "version": 3
   },
   "file_extension": ".py",
   "mimetype": "text/x-python",
   "name": "python",
   "nbconvert_exporter": "python",
   "pygments_lexer": "ipython3",
   "version": "3.7.4"
  }
 },
 "nbformat": 4,
 "nbformat_minor": 2
}
