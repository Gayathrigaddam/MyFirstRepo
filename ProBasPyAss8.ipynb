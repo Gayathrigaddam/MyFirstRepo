{
 "cells": [
  {
   "cell_type": "code",
   "execution_count": 1,
   "metadata": {},
   "outputs": [],
   "source": [
    "import numpy as np"
   ]
  },
  {
   "cell_type": "code",
   "execution_count": 2,
   "metadata": {},
   "outputs": [],
   "source": [
    "#Question1\n",
    "def addition(arr1,arr2):\n",
    "    try:\n",
    "        return np.add(arr1,arr2)\n",
    "    except Exception as e:\n",
    "        print(\"Error occurred!\\n\",e)"
   ]
  },
  {
   "cell_type": "code",
   "execution_count": 11,
   "metadata": {},
   "outputs": [],
   "source": [
    "#Question2\n",
    "def multiplication(arr1,arr2):\n",
    "    try:\n",
    "        return np.matmul(arr1,arr2)\n",
    "    except Exception as e:\n",
    "         print(\"Error occurred!\\n\",e)"
   ]
  },
  {
   "cell_type": "code",
   "execution_count": 15,
   "metadata": {},
   "outputs": [
    {
     "name": "stdout",
     "output_type": "stream",
     "text": [
      "Enter number of rows in array 1 1\n",
      "Enter number of columns in array 1 2\n",
      "Enter number of rows in array 2 2\n",
      "Enter number of columns in array 21\n",
      "Enter elements of array 1\n",
      "1\n",
      "1\n",
      "Enter elements of array 2\n",
      "2\n",
      "2\n",
      "Sum of two matrices : [[3 3]\n",
      " [3 3]]\n",
      "Product of two matrices : [[4]]\n"
     ]
    }
   ],
   "source": [
    "rows1=int(input(\"Enter number of rows in array 1 \"))\n",
    "cols1=int(input(\"Enter number of columns in array 1 \"))\n",
    "rows2=int(input(\"Enter number of rows in array 2 \"))\n",
    "cols2=int(input(\"Enter number of columns in array 2\"))\n",
    "arr1=np.empty((rows1,cols1),dtype=int)\n",
    "arr2=np.empty((rows2,cols2),dtype=int)\n",
    "print(\"Enter elements of array 1\")\n",
    "for i in range(rows1):\n",
    "    for j in range(cols1):\n",
    "        arr1[i][j]=int(input())\n",
    "print(\"Enter elements of array 2\")\n",
    "for i in range(rows2):\n",
    "    for j in range(cols2):\n",
    "        arr2[i][j]=int(input())\n",
    "print(\"Sum of two matrices :\",addition(arr1,arr2))\n",
    "print(\"Product of two matrices :\",multiplication(arr1,arr2))"
   ]
  },
  {
   "cell_type": "code",
   "execution_count": 16,
   "metadata": {},
   "outputs": [],
   "source": [
    "#Question3\n",
    "def transpose(arr):\n",
    "    try:\n",
    "        return np.transpose(arr)\n",
    "    except Exception as e:\n",
    "         print(\"Error occurred!\\n\",e)"
   ]
  },
  {
   "cell_type": "code",
   "execution_count": 25,
   "metadata": {},
   "outputs": [
    {
     "name": "stdout",
     "output_type": "stream",
     "text": [
      "Matrix before tansposing is : [[1 2 3]\n",
      " [4 5 6]\n",
      " [7 8 9]]\n",
      "Matrix after tansposing is : [[1 4 7]\n",
      " [2 5 8]\n",
      " [3 6 9]]\n"
     ]
    }
   ],
   "source": [
    "arr=np.array([[1,2,3],[4,5,6],[7,8,9]])\n",
    "print(\"Matrix before tansposing is :\",arr)\n",
    "arr=transpose(arr)\n",
    "print(\"Matrix after tansposing is :\",arr)\n"
   ]
  },
  {
   "cell_type": "code",
   "execution_count": 32,
   "metadata": {},
   "outputs": [],
   "source": [
    "#Question4\n",
    "def sortwords(lst):\n",
    "    lst=[rec.lower() for rec in lst.split(\" \")]\n",
    "    for i in sorted(lst):\n",
    "        yield i"
   ]
  },
  {
   "cell_type": "code",
   "execution_count": 33,
   "metadata": {},
   "outputs": [
    {
     "name": "stdout",
     "output_type": "stream",
     "text": [
      "alphabetical\n",
      "am\n",
      "i\n",
      "in\n",
      "order\n",
      "sorting\n",
      "string\n",
      "this\n",
      "words\n"
     ]
    }
   ],
   "source": [
    "for i in sortwords(\"I am sorting this string words in alphabetical order\"):\n",
    "    print(i)"
   ]
  },
  {
   "cell_type": "code",
   "execution_count": 60,
   "metadata": {},
   "outputs": [],
   "source": [
    "#Question5\n",
    "import re\n",
    "def removePunctuation(str1):\n",
    "    res=re.sub(r'[^\\w\\s]','',str1)\n",
    "    return res"
   ]
  },
  {
   "cell_type": "code",
   "execution_count": 61,
   "metadata": {},
   "outputs": [
    {
     "data": {
      "text/plain": [
       "'Hello AllWelcome to codingThis is the first code'"
      ]
     },
     "execution_count": 61,
     "metadata": {},
     "output_type": "execute_result"
    }
   ],
   "source": [
    "removePunctuation(\"Hello All!!Welcome to coding.This is the first code.\")"
   ]
  },
  {
   "cell_type": "code",
   "execution_count": null,
   "metadata": {},
   "outputs": [],
   "source": []
  }
 ],
 "metadata": {
  "kernelspec": {
   "display_name": "Python 3",
   "language": "python",
   "name": "python3"
  },
  "language_info": {
   "codemirror_mode": {
    "name": "ipython",
    "version": 3
   },
   "file_extension": ".py",
   "mimetype": "text/x-python",
   "name": "python",
   "nbconvert_exporter": "python",
   "pygments_lexer": "ipython3",
   "version": "3.7.4"
  }
 },
 "nbformat": 4,
 "nbformat_minor": 2
}
